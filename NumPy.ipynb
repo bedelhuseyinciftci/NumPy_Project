{
  "nbformat": 4,
  "nbformat_minor": 0,
  "metadata": {
    "colab": {
      "provenance": []
    },
    "kernelspec": {
      "name": "python3",
      "display_name": "Python 3"
    },
    "language_info": {
      "name": "python"
    }
  },
  "cells": [
    {
      "cell_type": "code",
      "source": [
        "names = ['Ben', 'Omer', 'Karen', 'Celine', 'Sue', 'Bora', 'Rose', 'Ellen', 'Bob', 'Taylor', 'Jude']\n",
        "call_numbers = [300, 10, 500, 70, 100, 100, 600, 800, 200, 450, 80]\n",
        "average_deal_sizes = [8, 6, 24, 32, 5, 25, 25, 40, 15, 10, 12]\n",
        "revenues = [2400, 60, 12000, 2275, 500, 770, 4000, 6000, 800, 1200, 500]"
      ],
      "metadata": {
        "id": "OVfsaId2BwM0"
      },
      "execution_count": 20,
      "outputs": []
    },
    {
      "cell_type": "code",
      "source": [
        "import numpy as np"
      ],
      "metadata": {
        "id": "OoytRA0rCqQZ"
      },
      "execution_count": 12,
      "outputs": []
    },
    {
      "cell_type": "code",
      "source": [
        "data = np.array([], dtype=int)"
      ],
      "metadata": {
        "id": "w5NwIdOBCul5"
      },
      "execution_count": 13,
      "outputs": []
    },
    {
      "cell_type": "code",
      "source": [
        "def append_names(names_list):\n",
        "  global data\n",
        "  for i in names_list:\n",
        "    data = np.append(data, names.index(i))"
      ],
      "metadata": {
        "id": "bSXeKl7gCziw"
      },
      "execution_count": 26,
      "outputs": []
    },
    {
      "cell_type": "code",
      "source": [
        "def append_performance_measures(feature_list):\n",
        "  global data\n",
        "  data = np.append(data, feature_list)"
      ],
      "metadata": {
        "id": "UEhX5bzhC_Fy"
      },
      "execution_count": 17,
      "outputs": []
    },
    {
      "cell_type": "code",
      "source": [
        "append_names(names)\n",
        "append_performance_measures(call_numbers)\n",
        "append_performance_measures(average_deal_sizes)\n",
        "append_performance_measures(revenues)\n",
        "\n",
        "print(data)\n",
        "print(data.shape)"
      ],
      "metadata": {
        "colab": {
          "base_uri": "https://localhost:8080/"
        },
        "id": "rtTpdZQgDI90",
        "outputId": "a885da95-96c8-496d-ff75-27ac7ba30df1"
      },
      "execution_count": 27,
      "outputs": [
        {
          "output_type": "stream",
          "name": "stdout",
          "text": [
            "[    0     1     2     3     4     5     6     7     8     9    10   300\n",
            "    10   500    70   100   100   600   800   200   450    80     8     6\n",
            "    24    32     5    25    25    40    15    10    12  2400    60 12000\n",
            "  2275   500   770  4000  6000   800  1200   500]\n",
            "(44,)\n"
          ]
        }
      ]
    },
    {
      "cell_type": "code",
      "source": [
        "data = data.reshape(4, 11)\n",
        "print(data)\n",
        "print(data.shape)"
      ],
      "metadata": {
        "colab": {
          "base_uri": "https://localhost:8080/"
        },
        "id": "6k6vH3p7Dl-p",
        "outputId": "71e7866b-c742-43ff-cf67-a9631bbfa020"
      },
      "execution_count": 29,
      "outputs": [
        {
          "output_type": "stream",
          "name": "stdout",
          "text": [
            "[[    0     1     2     3     4     5     6     7     8     9    10]\n",
            " [  300    10   500    70   100   100   600   800   200   450    80]\n",
            " [    8     6    24    32     5    25    25    40    15    10    12]\n",
            " [ 2400    60 12000  2275   500   770  4000  6000   800  1200   500]]\n",
            "(4, 11)\n"
          ]
        }
      ]
    },
    {
      "cell_type": "code",
      "source": [
        "print(data[1])"
      ],
      "metadata": {
        "colab": {
          "base_uri": "https://localhost:8080/"
        },
        "id": "-qB-m-2cGrE0",
        "outputId": "6fcf7dd4-81ad-4710-b313-fec1c684a24d"
      },
      "execution_count": 30,
      "outputs": [
        {
          "output_type": "stream",
          "name": "stdout",
          "text": [
            "[300  10 500  70 100 100 600 800 200 450  80]\n"
          ]
        }
      ]
    },
    {
      "cell_type": "code",
      "source": [
        "print(data[2])"
      ],
      "metadata": {
        "colab": {
          "base_uri": "https://localhost:8080/"
        },
        "id": "0wKGXw8BGvlv",
        "outputId": "b528a223-40cf-48a9-99d1-2380eb1b8a55"
      },
      "execution_count": 31,
      "outputs": [
        {
          "output_type": "stream",
          "name": "stdout",
          "text": [
            "[ 8  6 24 32  5 25 25 40 15 10 12]\n"
          ]
        }
      ]
    },
    {
      "cell_type": "code",
      "source": [
        "print(data[3])"
      ],
      "metadata": {
        "colab": {
          "base_uri": "https://localhost:8080/"
        },
        "id": "AZjpxy05Gw3j",
        "outputId": "9c76957d-db0b-4f0e-8749-0920084b7e24"
      },
      "execution_count": 32,
      "outputs": [
        {
          "output_type": "stream",
          "name": "stdout",
          "text": [
            "[ 2400    60 12000  2275   500   770  4000  6000   800  1200   500]\n"
          ]
        }
      ]
    },
    {
      "cell_type": "code",
      "source": [
        "print(data[3,7])"
      ],
      "metadata": {
        "colab": {
          "base_uri": "https://localhost:8080/"
        },
        "id": "pVAN8fXGGziJ",
        "outputId": "b8851ac3-ba1d-43a6-ccb5-3f09c4049420"
      },
      "execution_count": 33,
      "outputs": [
        {
          "output_type": "stream",
          "name": "stdout",
          "text": [
            "6000\n"
          ]
        }
      ]
    },
    {
      "cell_type": "code",
      "source": [
        "def calculate_performance(employee_name):\n",
        "  idx = names.index(employee_name)\n",
        "  number_of_calls = data[1, idx]\n",
        "  avg_deal_size = data[2,idx]\n",
        "  revenue = data[3, idx]\n",
        "\n",
        "  score = (avg_deal_size*revenue) / number_of_calls\n",
        "\n",
        "  return score"
      ],
      "metadata": {
        "id": "EWpGjINBG1X4"
      },
      "execution_count": 34,
      "outputs": []
    },
    {
      "cell_type": "code",
      "source": [
        "print(calculate_performance(\"Ellen\"))"
      ],
      "metadata": {
        "colab": {
          "base_uri": "https://localhost:8080/"
        },
        "id": "_tsFOY-4HJ2U",
        "outputId": "a6d82aad-82bc-4b0e-e4c4-cc09332f4ab6"
      },
      "execution_count": 35,
      "outputs": [
        {
          "output_type": "stream",
          "name": "stdout",
          "text": [
            "300.0\n"
          ]
        }
      ]
    },
    {
      "cell_type": "code",
      "source": [
        "performance_scores = []\n",
        "for name in names:\n",
        "  score = int(calculate_performance(name))\n",
        "  performance_scores.append(score)"
      ],
      "metadata": {
        "id": "xw9W4gmOHPbW"
      },
      "execution_count": 36,
      "outputs": []
    },
    {
      "cell_type": "code",
      "source": [
        "data = np.concatenate((data, [performance_scores]), axis = 0)\n",
        "print(data)"
      ],
      "metadata": {
        "colab": {
          "base_uri": "https://localhost:8080/"
        },
        "id": "3c4ui_fQHY7M",
        "outputId": "5450f71f-1632-472c-c8b4-dfe2440e2e15"
      },
      "execution_count": 37,
      "outputs": [
        {
          "output_type": "stream",
          "name": "stdout",
          "text": [
            "[[    0     1     2     3     4     5     6     7     8     9    10]\n",
            " [  300    10   500    70   100   100   600   800   200   450    80]\n",
            " [    8     6    24    32     5    25    25    40    15    10    12]\n",
            " [ 2400    60 12000  2275   500   770  4000  6000   800  1200   500]\n",
            " [   64    36   576  1040    25   192   166   300    60    26    75]]\n"
          ]
        }
      ]
    },
    {
      "cell_type": "code",
      "source": [
        "idx_best_employee = np.argmax(data[4])\n",
        "idx_worst_employee = np.argmin(data[4])\n",
        "\n",
        "print(f'Best Performing Employee: {names[idx_best_employee]}')\n",
        "print(f'Worst Performing Employee: {names[idx_worst_employee]}')"
      ],
      "metadata": {
        "colab": {
          "base_uri": "https://localhost:8080/"
        },
        "id": "iKF4SxjAHj_e",
        "outputId": "e3d75860-3439-4615-c9fb-20edcac62045"
      },
      "execution_count": 39,
      "outputs": [
        {
          "output_type": "stream",
          "name": "stdout",
          "text": [
            "Best Performing Employee: Celine\n",
            "Worst Performing Employee: Sue\n"
          ]
        }
      ]
    },
    {
      "cell_type": "code",
      "source": [],
      "metadata": {
        "id": "6Ixp80GDIBOR"
      },
      "execution_count": null,
      "outputs": []
    }
  ]
}